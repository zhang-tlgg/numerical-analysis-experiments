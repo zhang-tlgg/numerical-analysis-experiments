{
 "cells": [
  {
   "attachments": {},
   "cell_type": "markdown",
   "metadata": {},
   "source": [
    "# 实验二\n",
    "\n",
    "张天乐 计96 2018011038"
   ]
  },
  {
   "attachments": {},
   "cell_type": "markdown",
   "metadata": {},
   "source": [
    "## 上机题 2"
   ]
  },
  {
   "attachments": {},
   "cell_type": "markdown",
   "metadata": {},
   "source": [
    "### 实验内容\n",
    "\n",
    "编程实现牛顿法与牛顿下山法求解下面两个方程. 要求: (1) 设定合适的迭代判停准则; (2) 设置合适\n",
    "的下山因子序列; (3) 打印每个迭代步的近似解及下山因子; (4) 请用其他较准确的方法 (如MATLAB软件中的 fzero 函\n",
    "数) 验证牛顿法与牛顿下山法结果的正确性。最后，总结哪个问题需要用牛顿下山法求解，及采用它之后的效果"
   ]
  },
  {
   "attachments": {},
   "cell_type": "markdown",
   "metadata": {},
   "source": [
    "### 实验过程\n",
    "\n",
    "- 使用残差判据 + 误差判据\n",
    "- 设定下山因子初值，每次迭代下山因子以一定比例减小\n",
    "- 打印每个迭代步的近似解及下山因子\n",
    "- 使用 python scipy 模块求根"
   ]
  },
  {
   "cell_type": "code",
   "execution_count": 83,
   "metadata": {},
   "outputs": [],
   "source": [
    "import numpy as np\n",
    "\n",
    "def newton(fun, derive, x0, damp=False):\n",
    "    epsilon = 1e-6\n",
    "    lamb = 0.9\n",
    "    k = 0\n",
    "    x = xk =x0\n",
    "    while np.abs(fun(x)) > epsilon or np.abs(x - xk) > epsilon:\n",
    "        s = fun(x) / derive(x)\n",
    "        xk = x\n",
    "        x = xk - s\n",
    "        print('Step {:2d}: x = {:.6f}, f(x) = {:.6f}'.format(k, x, fun(x)))\n",
    "        if not damp:\n",
    "            if x == x0:\n",
    "                print('[err] 牛顿法发生跳动, x 重复, 请更换初值')\n",
    "                break\n",
    "        else:\n",
    "            i = 0\n",
    "            lamb_i = lamb\n",
    "            while np.abs(fun(x)) > np.abs(fun(xk)):\n",
    "                x = xk - lamb_i * s\n",
    "                lamb_i *= 0.9\n",
    "                i += 1\n",
    "                print('- lambda {:.5f}, x = {:.6f}, f(x) = {:.6f}'.format(lamb_i, x, fun(x)))\n",
    "            if i > 0:\n",
    "                print('         x = {:.6f}, f(x) = {:.6f}'.format(x, fun(x)))\n",
    "        k += 1\n",
    "    return x"
   ]
  },
  {
   "attachments": {},
   "cell_type": "markdown",
   "metadata": {},
   "source": [
    "对两个函数，分别使用牛顿法、牛顿下山法、scipy.optimize.root方法求根"
   ]
  },
  {
   "cell_type": "code",
   "execution_count": 84,
   "metadata": {},
   "outputs": [],
   "source": [
    "from scipy.optimize import root\n",
    "\n",
    "def test(fun, derive, x0):\n",
    "    print('牛顿法')\n",
    "    r1 = newton(fun, derive, x0)\n",
    "    print('\\n牛顿下山法')\n",
    "    r2 = newton(fun, derive, x0, True)\n",
    "    print('\\nscipy.optimize.root 方法')\n",
    "    r3 = root(fun, int(r2))\n",
    "    print('Success: {}'.format(r3.success))\n",
    "    print('\\n牛顿法: {}, 牛顿下山法: {}, scipy.optimize.root 方法: {}'.format(r1, r2, r3.x[0]))\n",
    "    \n",
    "def f1(x):\n",
    "    return x ** 3 - 2 * x + 2\n",
    "\n",
    "def f1_derive(x):\n",
    "    return 3 * x ** 2 - 2\n",
    "\n",
    "def f2(x):\n",
    "    return - x ** 3 + 5 * x\n",
    "\n",
    "def f2_derive(x):\n",
    "    return -3 * x ** 2 + 5"
   ]
  },
  {
   "cell_type": "code",
   "execution_count": 85,
   "metadata": {},
   "outputs": [
    {
     "name": "stdout",
     "output_type": "stream",
     "text": [
      "牛顿法\n",
      "Step  0: x = 1.000000, f(x) = 1.000000\n",
      "Step  1: x = 0.000000, f(x) = 2.000000\n",
      "[err] 牛顿法发生跳动, x 重复, 请更换初值\n",
      "\n",
      "牛顿下山法\n",
      "Step  0: x = 1.000000, f(x) = 1.000000\n",
      "Step  1: x = 0.000000, f(x) = 2.000000\n",
      "- lambda 0.81000, x = 0.100000, f(x) = 1.801000\n",
      "- lambda 0.72900, x = 0.190000, f(x) = 1.626859\n",
      "- lambda 0.65610, x = 0.271000, f(x) = 1.477903\n",
      "- lambda 0.59049, x = 0.343900, f(x) = 1.352872\n",
      "- lambda 0.53144, x = 0.409510, f(x) = 1.249654\n",
      "- lambda 0.47830, x = 0.468559, f(x) = 1.165753\n",
      "- lambda 0.43047, x = 0.521703, f(x) = 1.098588\n",
      "- lambda 0.38742, x = 0.569533, f(x) = 1.045672\n",
      "- lambda 0.34868, x = 0.612580, f(x) = 1.004714\n",
      "- lambda 0.31381, x = 0.651322, f(x) = 0.973660\n",
      "         x = 0.651322, f(x) = 0.973660\n",
      "Step  2: x = 1.989979, f(x) = 5.900396\n",
      "- lambda 0.81000, x = 1.856114, f(x) = 4.682378\n",
      "- lambda 0.72900, x = 1.735634, f(x) = 3.757203\n",
      "- lambda 0.65610, x = 1.627203, f(x) = 3.054086\n",
      "- lambda 0.59049, x = 1.529615, f(x) = 2.519644\n",
      "- lambda 0.53144, x = 1.441786, f(x) = 2.113535\n",
      "- lambda 0.47830, x = 1.362739, f(x) = 1.805208\n",
      "- lambda 0.43047, x = 1.291597, f(x) = 1.571479\n",
      "- lambda 0.38742, x = 1.227570, f(x) = 1.394719\n",
      "- lambda 0.34868, x = 1.169945, f(x) = 1.261497\n",
      "- lambda 0.31381, x = 1.118083, f(x) = 1.161560\n",
      "- lambda 0.28243, x = 1.071407, f(x) = 1.087067\n",
      "- lambda 0.25419, x = 1.029398, f(x) = 1.032016\n",
      "- lambda 0.22877, x = 0.991590, f(x) = 0.991802\n",
      "- lambda 0.20589, x = 0.957564, f(x) = 0.962890\n",
      "         x = 0.957564, f(x) = 0.962890\n",
      "Step  3: x = -0.324949, f(x) = 2.615586\n",
      "- lambda 0.81000, x = -0.196698, f(x) = 2.385785\n",
      "- lambda 0.72900, x = -0.081272, f(x) = 2.162006\n",
      "- lambda 0.65610, x = 0.022612, f(x) = 1.954788\n",
      "- lambda 0.59049, x = 0.116107, f(x) = 1.769351\n",
      "- lambda 0.53144, x = 0.200253, f(x) = 1.607525\n",
      "- lambda 0.47830, x = 0.275984, f(x) = 1.469053\n",
      "- lambda 0.43047, x = 0.344142, f(x) = 1.352474\n",
      "- lambda 0.38742, x = 0.405484, f(x) = 1.255701\n",
      "- lambda 0.34868, x = 0.460692, f(x) = 1.176392\n",
      "- lambda 0.31381, x = 0.510379, f(x) = 1.112189\n",
      "- lambda 0.28243, x = 0.555098, f(x) = 1.060849\n",
      "- lambda 0.25419, x = 0.595344, f(x) = 1.020322\n",
      "- lambda 0.22877, x = 0.631566, f(x) = 0.988784\n",
      "- lambda 0.20589, x = 0.664166, f(x) = 0.964643\n",
      "- lambda 0.18530, x = 0.693506, f(x) = 0.946530\n",
      "         x = 0.693506, f(x) = 0.946530\n",
      "Step  4: x = 2.392385, f(x) = 10.908057\n",
      "- lambda 0.81000, x = 2.222497, f(x) = 8.533012\n",
      "- lambda 0.72900, x = 2.069598, f(x) = 6.725378\n",
      "- lambda 0.65610, x = 1.931989, f(x) = 5.347324\n",
      "- lambda 0.59049, x = 1.808140, f(x) = 4.295201\n",
      "- lambda 0.53144, x = 1.696677, f(x) = 3.490890\n",
      "- lambda 0.47830, x = 1.596360, f(x) = 2.875386\n",
      "- lambda 0.43047, x = 1.506074, f(x) = 2.404019\n",
      "- lambda 0.38742, x = 1.424817, f(x) = 2.042894\n",
      "- lambda 0.34868, x = 1.351686, f(x) = 1.766233\n",
      "- lambda 0.31381, x = 1.285868, f(x) = 1.554391\n",
      "- lambda 0.28243, x = 1.226632, f(x) = 1.392358\n",
      "- lambda 0.25419, x = 1.173319, f(x) = 1.268644\n",
      "- lambda 0.22877, x = 1.125338, f(x) = 1.174436\n",
      "- lambda 0.20589, x = 1.082155, f(x) = 1.102957\n",
      "- lambda 0.18530, x = 1.043290, f(x) = 1.048993\n",
      "- lambda 0.16677, x = 1.008311, f(x) = 1.008519\n",
      "- lambda 0.15009, x = 0.976831, f(x) = 0.978429\n",
      "- lambda 0.13509, x = 0.948498, f(x) = 0.956319\n",
      "- lambda 0.12158, x = 0.922999, f(x) = 0.940330\n",
      "         x = 0.922999, f(x) = 0.940330\n",
      "Step  5: x = -0.768907, f(x) = 3.083222\n",
      "- lambda 0.81000, x = -0.599716, f(x) = 2.983739\n",
      "- lambda 0.72900, x = -0.447445, f(x) = 2.805308\n",
      "- lambda 0.65610, x = -0.310400, f(x) = 2.590894\n",
      "- lambda 0.59049, x = -0.187060, f(x) = 2.367575\n",
      "- lambda 0.53144, x = -0.076054, f(x) = 2.151669\n",
      "- lambda 0.47830, x = 0.023851, f(x) = 1.952312\n",
      "- lambda 0.43047, x = 0.113766, f(x) = 1.773941\n",
      "- lambda 0.38742, x = 0.194689, f(x) = 1.618001\n",
      "- lambda 0.34868, x = 0.267520, f(x) = 1.484106\n",
      "- lambda 0.31381, x = 0.333068, f(x) = 1.370813\n",
      "- lambda 0.28243, x = 0.392061, f(x) = 1.276142\n",
      "- lambda 0.25419, x = 0.445155, f(x) = 1.197904\n",
      "- lambda 0.22877, x = 0.492939, f(x) = 1.133900\n",
      "- lambda 0.20589, x = 0.535945, f(x) = 1.082053\n",
      "- lambda 0.18530, x = 0.574651, f(x) = 1.040462\n",
      "- lambda 0.16677, x = 0.609485, f(x) = 1.007436\n",
      "- lambda 0.15009, x = 0.640837, f(x) = 0.981500\n",
      "- lambda 0.13509, x = 0.669053, f(x) = 0.961383\n",
      "- lambda 0.12158, x = 0.694448, f(x) = 0.946007\n",
      "- lambda 0.10942, x = 0.717303, f(x) = 0.934463\n",
      "         x = 0.717303, f(x) = 0.934463\n",
      "Step  6: x = 2.764633, f(x) = 17.601358\n",
      "- lambda 0.81000, x = 2.559900, f(x) = 13.655444\n",
      "- lambda 0.72900, x = 2.375640, f(x) = 10.656037\n",
      "- lambda 0.65610, x = 2.209806, f(x) = 8.371410\n",
      "- lambda 0.59049, x = 2.060556, f(x) = 6.627783\n",
      "- lambda 0.53144, x = 1.926231, f(x) = 5.294556\n",
      "- lambda 0.47830, x = 1.805338, f(x) = 4.273362\n",
      "- lambda 0.43047, x = 1.696534, f(x) = 3.489945\n",
      "- lambda 0.38742, x = 1.598611, f(x) = 2.888121\n",
      "- lambda 0.34868, x = 1.510480, f(x) = 2.425277\n",
      "- lambda 0.31381, x = 1.431163, f(x) = 2.069020\n",
      "- lambda 0.28243, x = 1.359777, f(x) = 1.794663\n",
      "- lambda 0.25419, x = 1.295529, f(x) = 1.583352\n",
      "- lambda 0.22877, x = 1.237707, f(x) = 1.420651\n",
      "- lambda 0.20589, x = 1.185666, f(x) = 1.295482\n",
      "- lambda 0.18530, x = 1.138830, f(x) = 1.199327\n",
      "- lambda 0.16677, x = 1.096677, f(x) = 1.125620\n",
      "- lambda 0.15009, x = 1.058740, f(x) = 1.069293\n",
      "- lambda 0.13509, x = 1.024596, f(x) = 1.026426\n",
      "- lambda 0.12158, x = 0.993867, f(x) = 0.993979\n",
      "- lambda 0.10942, x = 0.966210, f(x) = 0.969597\n",
      "- lambda 0.09848, x = 0.941320, f(x) = 0.951448\n",
      "- lambda 0.08863, x = 0.918918, f(x) = 0.938108\n",
      "- lambda 0.07977, x = 0.898756, f(x) = 0.928469\n",
      "         x = 0.898756, f(x) = 0.928469\n",
      "Step  7: x = -1.294709, f(x) = 2.419134\n",
      "- lambda 0.81000, x = -1.075363, f(x) = 2.907171\n",
      "- lambda 0.72900, x = -0.877951, f(x) = 3.079179\n",
      "- lambda 0.65610, x = -0.700280, f(x) = 3.057148\n",
      "- lambda 0.59049, x = -0.540376, f(x) = 2.922959\n",
      "- lambda 0.53144, x = -0.396463, f(x) = 2.730609\n",
      "- lambda 0.47830, x = -0.266941, f(x) = 2.514861\n",
      "- lambda 0.43047, x = -0.150371, f(x) = 2.297343\n",
      "- lambda 0.38742, x = -0.045459, f(x) = 2.090823\n",
      "- lambda 0.34868, x = 0.048963, f(x) = 1.902192\n",
      "- lambda 0.31381, x = 0.133942, f(x) = 1.734519\n",
      "- lambda 0.28243, x = 0.210424, f(x) = 1.588470\n",
      "- lambda 0.25419, x = 0.279257, f(x) = 1.463264\n",
      "- lambda 0.22877, x = 0.341207, f(x) = 1.357310\n",
      "- lambda 0.20589, x = 0.396962, f(x) = 1.268629\n",
      "- lambda 0.18530, x = 0.447141, f(x) = 1.195117\n",
      "- lambda 0.16677, x = 0.492303, f(x) = 1.134710\n",
      "- lambda 0.15009, x = 0.532948, f(x) = 1.085479\n",
      "- lambda 0.13509, x = 0.569529, f(x) = 1.045676\n",
      "- lambda 0.12158, x = 0.602452, f(x) = 1.013755\n",
      "- lambda 0.10942, x = 0.632082, f(x) = 0.988370\n",
      "- lambda 0.09848, x = 0.658750, f(x) = 0.968366\n",
      "- lambda 0.08863, x = 0.682750, f(x) = 0.952762\n",
      "- lambda 0.07977, x = 0.704351, f(x) = 0.940734\n",
      "- lambda 0.07179, x = 0.723791, f(x) = 0.931593\n",
      "- lambda 0.06461, x = 0.741288, f(x) = 0.924768\n",
      "         x = 0.741288, f(x) = 0.924768\n",
      "Step  8: x = 3.372379, f(x) = 33.609115\n",
      "- lambda 0.81000, x = 3.109270, f(x) = 25.840518\n",
      "- lambda 0.72900, x = 2.872472, f(x) = 19.956095\n",
      "- lambda 0.65610, x = 2.659354, f(x) = 15.488669\n",
      "- lambda 0.59049, x = 2.467547, f(x) = 12.089276\n",
      "- lambda 0.53144, x = 2.294921, f(x) = 9.496733\n",
      "- lambda 0.47830, x = 2.139558, f(x) = 7.515153\n",
      "- lambda 0.43047, x = 1.999731, f(x) = 5.997308\n",
      "- lambda 0.38742, x = 1.873886, f(x) = 4.832287\n",
      "- lambda 0.34868, x = 1.760627, f(x) = 3.936348\n",
      "- lambda 0.31381, x = 1.658693, f(x) = 3.246112\n",
      "- lambda 0.28243, x = 1.566952, f(x) = 2.713495\n",
      "- lambda 0.25419, x = 1.484386, f(x) = 2.301926\n",
      "- lambda 0.22877, x = 1.410076, f(x) = 1.983522\n",
      "- lambda 0.20589, x = 1.343197, f(x) = 1.736973\n",
      "- lambda 0.18530, x = 1.283006, f(x) = 1.545951\n",
      "- lambda 0.16677, x = 1.228834, f(x) = 1.397913\n",
      "- lambda 0.15009, x = 1.180080, f(x) = 1.283206\n",
      "- lambda 0.13509, x = 1.136201, f(x) = 1.194379\n",
      "- lambda 0.12158, x = 1.096709, f(x) = 1.125672\n",
      "- lambda 0.10942, x = 1.061167, f(x) = 1.072620\n",
      "- lambda 0.09848, x = 1.029179, f(x) = 1.031758\n",
      "- lambda 0.08863, x = 1.000390, f(x) = 1.000391\n",
      "- lambda 0.07977, x = 0.974480, f(x) = 0.976417\n",
      "- lambda 0.07179, x = 0.951161, f(x) = 0.958200\n",
      "- lambda 0.06461, x = 0.930173, f(x) = 0.944460\n",
      "- lambda 0.05815, x = 0.911285, f(x) = 0.934198\n",
      "- lambda 0.05233, x = 0.894285, f(x) = 0.926631\n",
      "- lambda 0.04710, x = 0.878985, f(x) = 0.921147\n",
      "         x = 0.878985, f(x) = 0.921147\n",
      "Step  9: x = -2.019105, f(x) = -2.193245\n",
      "- lambda 0.81000, x = -1.729296, f(x) = 0.287195\n",
      "         x = -1.729296, f(x) = 0.287195\n",
      "Step 10: x = -1.770492, f(x) = -0.008874\n",
      "Step 11: x = -1.769293, f(x) = -0.000008\n",
      "Step 12: x = -1.769292, f(x) = -0.000000\n",
      "Step 13: x = -1.769292, f(x) = 0.000000\n",
      "\n",
      "scipy.optimize.root 方法\n",
      "Success: True\n",
      "\n",
      "牛顿法: 0.0, 牛顿下山法: -1.7692923542386314, scipy.optimize.root 方法: -1.7692923542386312\n"
     ]
    }
   ],
   "source": [
    "test(f1, f1_derive, 0)"
   ]
  },
  {
   "cell_type": "code",
   "execution_count": 86,
   "metadata": {},
   "outputs": [
    {
     "name": "stdout",
     "output_type": "stream",
     "text": [
      "牛顿法\n",
      "Step  0: x = 10.525668, f(x) = -1113.507269\n",
      "Step  1: x = 7.124287, f(x) = -325.975011\n",
      "Step  2: x = 4.910781, f(x) = -93.873337\n",
      "Step  3: x = 3.516911, f(x) = -25.914942\n",
      "Step  4: x = 2.709743, f(x) = -6.348134\n",
      "Step  5: x = 2.336940, f(x) = -1.078004\n",
      "Step  6: x = 2.242244, f(x) = -0.062019\n",
      "Step  7: x = 2.236093, f(x) = -0.000254\n",
      "Step  8: x = 2.236068, f(x) = -0.000000\n",
      "Step  9: x = 2.236068, f(x) = -0.000000\n",
      "\n",
      "牛顿下山法\n",
      "Step  0: x = 10.525668, f(x) = -1113.507269\n",
      "- lambda 0.81000, x = 9.608102, f(x) = -838.937314\n",
      "- lambda 0.72900, x = 8.782291, f(x) = -633.454764\n",
      "- lambda 0.65610, x = 8.039062, f(x) = -479.341330\n",
      "- lambda 0.59049, x = 7.370156, f(x) = -363.490205\n",
      "- lambda 0.53144, x = 6.768140, f(x) = -276.192417\n",
      "- lambda 0.47830, x = 6.226326, f(x) = -210.245240\n",
      "- lambda 0.43047, x = 5.738694, f(x) = -160.296674\n",
      "- lambda 0.38742, x = 5.299824, f(x) = -122.363080\n",
      "- lambda 0.34868, x = 4.904842, f(x) = -93.473901\n",
      "- lambda 0.31381, x = 4.549358, f(x) = -71.409704\n",
      "- lambda 0.28243, x = 4.229422, f(x) = -54.508834\n",
      "- lambda 0.25419, x = 3.941480, f(x) = -41.524526\n",
      "- lambda 0.22877, x = 3.682332, f(x) = -31.519168\n",
      "- lambda 0.20589, x = 3.449099, f(x) = -23.785955\n",
      "- lambda 0.18530, x = 3.239189, f(x) = -17.790739\n",
      "- lambda 0.16677, x = 3.050270, f(x) = -13.128808\n",
      "- lambda 0.15009, x = 2.880243, f(x) = -9.492702\n",
      "- lambda 0.13509, x = 2.727219, f(x) = -6.648199\n",
      "- lambda 0.12158, x = 2.589497, f(x) = -4.416370\n",
      "- lambda 0.10942, x = 2.465547, f(x) = -2.660134\n",
      "         x = 2.465547, f(x) = -2.660134\n",
      "Step  1: x = 2.264582, f(x) = -0.290613\n",
      "Step  2: x = 2.236598, f(x) = -0.005298\n",
      "Step  3: x = 2.236068, f(x) = -0.000002\n",
      "Step  4: x = 2.236068, f(x) = -0.000000\n",
      "\n",
      "scipy.optimize.root 方法\n",
      "Success: True\n",
      "\n",
      "牛顿法: 2.23606797749979, 牛顿下山法: 2.2360679774998133, scipy.optimize.root 方法: 2.2360679774997894\n"
     ]
    }
   ],
   "source": [
    "test(f2, f2_derive, 1.35)"
   ]
  },
  {
   "attachments": {},
   "cell_type": "markdown",
   "metadata": {},
   "source": [
    "### 实验结论\n",
    "\n",
    "函数 (1) 的牛顿法失败，迭代解在 0, 1 之间跳转。牛顿下山法迭代 13 步，解为 -1.7692923542386314。scipy.optimize.root 解为 -1.7692923542386312。\n",
    "\n",
    "函数 (2) 的牛顿法迭代 9 步， 解为2.23606797749979。牛顿下山法迭代 4 步，解为 2.2360679774998133。scipy.optimize.root 解为 2.2360679774997894。\n",
    "\n",
    "可以看出牛顿法存在问题：局部收敛, 依赖于初始解的设定，存在不收敛的情况。牛顿下山法使用一系列下山因子，保证 $|f(x_{k+1})| < |f(x_k)|$ ，在一定程度上防止牛顿法迭代过程发散。"
   ]
  },
  {
   "attachments": {},
   "cell_type": "markdown",
   "metadata": {},
   "source": [
    "## 上机题 3\n"
   ]
  },
  {
   "attachments": {},
   "cell_type": "markdown",
   "metadata": {},
   "source": [
    "### 实验内容\n",
    "\n",
    "利用 2.6.3 节给出的 fzerotx 程序，编程求第一类的零阶贝塞尔函数 $J_0(x)$ 的零点。试求 $J_0(x)$ 的前10个正的零点, 并绘出函数曲线和零点的位置"
   ]
  },
  {
   "attachments": {},
   "cell_type": "markdown",
   "metadata": {},
   "source": [
    "### 实验过程"
   ]
  },
  {
   "cell_type": "code",
   "execution_count": 87,
   "metadata": {},
   "outputs": [],
   "source": [
    "def fzerotx(func, a, b, eps):\n",
    "\tfa, fb = func(a), func(b)\n",
    "\tif np.sign(fa) == np.sign(fb):\n",
    "\t\tprint('Function must change sign on the interval')\n",
    "\t\treturn\n",
    "\n",
    "\tc = a\n",
    "\tfc = fa\n",
    "\td = b - c\n",
    "\te = d\n",
    "\n",
    "\twhile fb != 0:\n",
    "\t\tif np.sign(fa) == np.sign(fb):\n",
    "\t\t\ta, fa = c, fc\n",
    "\t\t\td = b - c\n",
    "\t\t\te = d\n",
    "\n",
    "\t\tif abs(fa) < abs(fb):\n",
    "\t\t\tc, fc = b, fb\n",
    "\t\t\tb, fb = a, fa\n",
    "\t\t\ta, fa = c, fc\n",
    "\n",
    "\t\tm = 0.5 * (a - b)\n",
    "\t\ttol = 2 * eps * max(abs(b), 1)\n",
    "\n",
    "\t\tif abs(m) <= tol or fb == 0:\t# 收敛测试\n",
    "\t\t\tbreak\n",
    "\n",
    "\t\tif abs(e) < tol or abs(fc) <= abs(fb):\t# 二分法\n",
    "\t\t\td = e = m\n",
    "\t\telse:\n",
    "\t\t\ts = fb / fc\n",
    "\t\t\tif a == c:\t# 割线法\n",
    "\t\t\t\tp = 2 * m * s\n",
    "\t\t\t\tq = 1 - s\n",
    "\t\t\telse:\t# 逆二次插值\n",
    "\t\t\t\tq = fc / fa\n",
    "\t\t\t\tr = fb / fa\n",
    "\t\t\t\tp = s * (2 * m * q * (q - r) - (b - c) * (r - 1))\n",
    "\t\t\t\tq = (q - 1) * (r - 1) * (s - 1)\n",
    "\n",
    "\t\t\tif p > 0:\n",
    "\t\t\t\tq = -q\n",
    "\t\t\telse:\n",
    "\t\t\t\tp = -p\n",
    "\n",
    "\t\t\tif 2 * p < 3 * m * q - abs(tol * q) and p < abs(0.5 * e * q):\n",
    "\t\t\t\te = d\t# 判断逆二次插值 / 割线法的结果是否可接受\n",
    "\t\t\t\td = p / q\n",
    "\t\t\telse:\n",
    "\t\t\t\td = e = m\n",
    "\n",
    "\t\tc = b\t# 准备下一个迭代步\n",
    "\t\tfc = fb\n",
    "\t\tif abs(d) > tol:\n",
    "\t\t\tb = b + d\n",
    "\t\telse:\n",
    "\t\t\tb = b - np.sign(b - a) * tol\n",
    "\t\tfb = func(b)\n",
    "\treturn b"
   ]
  },
  {
   "attachments": {},
   "cell_type": "markdown",
   "metadata": {},
   "source": [
    "绘制 $J_0(x)$ 曲线，估算 $J_0(x)$ 的前10个正的零点区间"
   ]
  },
  {
   "cell_type": "code",
   "execution_count": 88,
   "metadata": {},
   "outputs": [
    {
     "data": {
      "image/png": "[encoded data removed]",
      "text/plain": [
       "<Figure size 1000x400 with 1 Axes>"
      ]
     },
     "metadata": {},
     "output_type": "display_data"
    }
   ],
   "source": [
    "import matplotlib.pyplot as plt\n",
    "from scipy.special import j0\n",
    "\n",
    "x = np.arange(1, 32, 0.1)\n",
    "y = j0(x)\n",
    "\n",
    "plt.figure(figsize=(10, 4))\n",
    "ax = plt.subplot()\n",
    "plt.plot(x, y)\n",
    "plt.grid(True)\n",
    "plt.xticks(np.arange(1, 32, 1))\n",
    "plt.axhline(0, color='black')\n",
    "plt.show()"
   ]
  },
  {
   "attachments": {},
   "cell_type": "markdown",
   "metadata": {},
   "source": [
    " $J_0(x)$ 的前10个正的零点区间为"
   ]
  },
  {
   "cell_type": "code",
   "execution_count": 89,
   "metadata": {},
   "outputs": [],
   "source": [
    "intervals = [\n",
    "    (2, 3),\n",
    "    (5, 6),\n",
    "    (8, 9),\n",
    "    (11, 12),\n",
    "    (14, 15),\n",
    "    (17, 19),\n",
    "    (21, 22),\n",
    "    (24, 25),\n",
    "    (27, 28),\n",
    "    (30, 31),\n",
    "]"
   ]
  },
  {
   "cell_type": "code",
   "execution_count": 90,
   "metadata": {},
   "outputs": [
    {
     "name": "stdout",
     "output_type": "stream",
     "text": [
      "[2.404825568995971, 5.5200781104384005, 8.653727917682568, 11.79153449631245, 14.930917714231663, 18.071063996037388, 21.21163665052287, 24.352471608227958, 27.493479147827202, 30.63460648844871]\n"
     ]
    }
   ],
   "source": [
    "result = []\n",
    "\n",
    "for interval in intervals:\n",
    "    result.append(fzerotx(j0, *interval, 1e-8))\n",
    "\n",
    "print(result)"
   ]
  },
  {
   "attachments": {},
   "cell_type": "markdown",
   "metadata": {},
   "source": [
    "使用 fzeroin 计算零点并绘制图像"
   ]
  },
  {
   "cell_type": "code",
   "execution_count": 94,
   "metadata": {},
   "outputs": [
    {
     "data": {
      "image/png": "[encoded data removed]",
      "text/plain": [
       "<Figure size 1000x400 with 1 Axes>"
      ]
     },
     "metadata": {},
     "output_type": "display_data"
    }
   ],
   "source": [
    "plt.figure(figsize=(10, 4))\n",
    "ax = plt.subplot()\n",
    "plt.plot(x, y)\n",
    "plt.grid(True)\n",
    "plt.xticks(np.arange(1, 32, 1))\n",
    "plt.axhline(0, color='black')\n",
    "for zero in result:\n",
    "    plt.scatter(zero, 0)\n",
    "plt.show()"
   ]
  }
 ],
 "metadata": {
  "kernelspec": {
   "display_name": "qt",
   "language": "python",
   "name": "python3"
  },
  "language_info": {
   "codemirror_mode": {
    "name": "ipython",
    "version": 3
   },
   "file_extension": ".py",
   "mimetype": "text/x-python",
   "name": "python",
   "nbconvert_exporter": "python",
   "pygments_lexer": "ipython3",
   "version": "3.7.16"
  },
  "orig_nbformat": 4
 },
 "nbformat": 4,
 "nbformat_minor": 2
}
