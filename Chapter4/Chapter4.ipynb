{
 "cells": [
  {
   "attachments": {},
   "cell_type": "markdown",
   "metadata": {},
   "source": [
    "# 实验四\n",
    "\n",
    "张天乐 计96 2018011038"
   ]
  },
  {
   "attachments": {},
   "cell_type": "markdown",
   "metadata": {},
   "source": [
    "## 上机题2"
   ]
  },
  {
   "attachments": {},
   "cell_type": "markdown",
   "metadata": {},
   "source": [
    "### 实验内容\n",
    "\n",
    "分别用雅可比, G-S 和 SOR 方法求线性方程组 $Ay=b$ 的解"
   ]
  },
  {
   "attachments": {},
   "cell_type": "markdown",
   "metadata": {},
   "source": [
    "#### (1) 对 $\\varepsilon=1$ , $a=1/2$ , $n=1000$ ，分别用雅可比, G-S 和 SOR 方法求上述线性方程组的解, 然后比较与精确解的误差"
   ]
  },
  {
   "attachments": {},
   "cell_type": "markdown",
   "metadata": {},
   "source": [
    "生成矩阵 $A$ 和向量 $b$"
   ]
  },
  {
   "cell_type": "code",
   "execution_count": 130,
   "metadata": {},
   "outputs": [],
   "source": [
    "import numpy as np\n",
    "\n",
    "eps = 1\n",
    "a = 0.5\n",
    "n = 1000\n",
    "h = 1 / n\n",
    "\n",
    "def generate_A(eps, n):\n",
    "    h = 1 / n\n",
    "    A = np.zeros((n - 1, n - 1))\n",
    "    for i in range(n - 1):\n",
    "        if i != 0:\n",
    "            A[i][i-1] = eps - h / 2\n",
    "        A[i][i] = -2 * eps\n",
    "        if i != n - 2:\n",
    "            A[i][i+1] = eps + h / 2\n",
    "    return A\n",
    "\n",
    "def generate_b(eps, n):\n",
    "    h = 1 / n\n",
    "    b = np.ones((n - 1)) * a * h * h\n",
    "    b[-1] -= eps + h / 2\n",
    "    return b\n",
    "    \n",
    "A = generate_A(eps, n)\n",
    "b = generate_b(eps, n)"
   ]
  },
  {
   "attachments": {},
   "cell_type": "markdown",
   "metadata": {},
   "source": [
    "雅可比方法"
   ]
  },
  {
   "cell_type": "code",
   "execution_count": 131,
   "metadata": {},
   "outputs": [
    {
     "name": "stdout",
     "output_type": "stream",
     "text": [
      "Jacobi 迭代步数 44208\n"
     ]
    }
   ],
   "source": [
    "def Jacobi(A, b):\n",
    "    n = np.shape(b)[0]\n",
    "    x = np.ones_like(b)\n",
    "    step = 0\n",
    "    while True:\n",
    "        y = np.copy(x)\n",
    "        for i in range(n):\n",
    "            x[i] = b[i]\n",
    "            if i > 0:\n",
    "                x[i] -= A[i][i - 1] * y[i - 1]\n",
    "            if i < n - 1:\n",
    "                x[i] -= A[i][i + 1] * y[i + 1]\n",
    "            x[i] /= A[i][i]\n",
    "        step += 1\n",
    "        if np.max(abs(x - y)) < 1e-5:\n",
    "            break\n",
    "    print('Jacobi 迭代步数 {}'.format(step))\n",
    "    return x\n",
    "\n",
    "y_jacobi = Jacobi(A, b)"
   ]
  },
  {
   "attachments": {},
   "cell_type": "markdown",
   "metadata": {},
   "source": [
    "G-S 方法"
   ]
  },
  {
   "cell_type": "code",
   "execution_count": 132,
   "metadata": {},
   "outputs": [
    {
     "name": "stdout",
     "output_type": "stream",
     "text": [
      "G-S 迭代步数 22380\n"
     ]
    }
   ],
   "source": [
    "def GS(A, b):\n",
    "    n = np.shape(b)[0]\n",
    "    x = np.ones_like(b)\n",
    "    step = 0\n",
    "    while True:\n",
    "        y = np.copy(x)\n",
    "        for i in range(n):\n",
    "            x[i] = b[i]\n",
    "            if i > 0:\n",
    "                x[i] -= A[i][i - 1] * x[i - 1]\n",
    "            if i < n - 1:\n",
    "                x[i] -= A[i][i + 1] * x[i + 1]\n",
    "            x[i] /= A[i][i]\n",
    "        step += 1\n",
    "        if np.max(abs(x - y)) < 1e-5:\n",
    "            break\n",
    "    print('G-S 迭代步数 {}'.format(step))\n",
    "    return x\n",
    "\n",
    "y_GS = GS(A, b)"
   ]
  },
  {
   "attachments": {},
   "cell_type": "markdown",
   "metadata": {},
   "source": [
    "SOR 方法（松弛因子 $\\omega=1.9$ ）"
   ]
  },
  {
   "cell_type": "code",
   "execution_count": 141,
   "metadata": {},
   "outputs": [
    {
     "name": "stdout",
     "output_type": "stream",
     "text": [
      "SOR 迭代步数 12113\n"
     ]
    }
   ],
   "source": [
    "def SOR(A, b, w):\n",
    "    n = np.shape(b)[0]\n",
    "    x = np.ones_like(b)\n",
    "    step = 0\n",
    "    while True:\n",
    "        y = np.copy(x)\n",
    "        for i in range(n):\n",
    "            x_gs = b[i]\n",
    "            if i > 0:\n",
    "                x_gs -= A[i][i - 1] * x[i - 1]\n",
    "            if i < n - 1:\n",
    "                x_gs -= A[i][i + 1] * x[i + 1]\n",
    "            x_gs /= A[i][i]\n",
    "            x[i] = (1 - w) * x[i] + w * x_gs\n",
    "        step += 1\n",
    "        if np.max(abs(x - y)) < 1e-5:\n",
    "            break\n",
    "    print('SOR 迭代步数 {}'.format(step))\n",
    "    return x\n",
    "\n",
    "y_SOR = SOR(A, b, 1.9)"
   ]
  },
  {
   "attachments": {},
   "cell_type": "markdown",
   "metadata": {},
   "source": [
    "计算精确解"
   ]
  },
  {
   "cell_type": "code",
   "execution_count": 142,
   "metadata": {},
   "outputs": [],
   "source": [
    "def fun_y(x, eps):\n",
    "    return (1 - a) / (1 - np.exp(-1 / eps)) * (1 - np.exp(-x / eps)) + a * x\n",
    "\n",
    "y_accurate = [fun_y(x, eps) for x in np.arange(h, 1, h)]"
   ]
  },
  {
   "attachments": {},
   "cell_type": "markdown",
   "metadata": {},
   "source": [
    "比较与精确解的误差"
   ]
  },
  {
   "cell_type": "code",
   "execution_count": 143,
   "metadata": {},
   "outputs": [
    {
     "name": "stdout",
     "output_type": "stream",
     "text": [
      "Jacobi 误差:\t无穷范数 0.5040579727919645\n",
      "GS 误差:\t无穷范数 0.5007676580949794\n",
      "SOR 误差:\t无穷范数 0.05193297853120138\n"
     ]
    }
   ],
   "source": [
    "def calc_error(y, y_acc):\n",
    "    error = np.max(abs(y - y_acc))\n",
    "    return error\n",
    "\n",
    "print('Jacobi 误差:\\t无穷范数 {}'.format(calc_error(y_jacobi, y_accurate)))\n",
    "print('GS 误差:\\t无穷范数 {}'.format(calc_error(y_GS, y_accurate)))\n",
    "print('SOR 误差:\\t无穷范数 {}'.format(calc_error(y_SOR, y_accurate)))"
   ]
  },
  {
   "attachments": {},
   "cell_type": "markdown",
   "metadata": {},
   "source": [
    "实验结论：\n",
    "\n",
    "迭代步数：\n",
    "\n",
    "- Jacobi : 44208\n",
    "- G-S : 22380\n",
    "- SOR ($\\omega=1.9$) : 12113\n",
    "\n",
    "迭代速度：SOR > G-S > Jacobi\n",
    "\n",
    "准确度：SOR > G-S > Jacobi"
   ]
  },
  {
   "attachments": {},
   "cell_type": "markdown",
   "metadata": {},
   "source": [
    "### (2) 对 $\\varepsilon=0.1$ , $\\varepsilon=0.01$ , $\\varepsilon=0.001$ 考虑上述同样的问题。同时，观察变化 $n$ 的值对解的准确度有何影响"
   ]
  },
  {
   "attachments": {},
   "cell_type": "markdown",
   "metadata": {},
   "source": [
    "##### 测试不同的 $\\varepsilon$ 的影响"
   ]
  },
  {
   "cell_type": "code",
   "execution_count": 152,
   "metadata": {},
   "outputs": [],
   "source": [
    "def test(eps, n):\n",
    "    print('\\nn = {}, eps = {}'.format(n, eps))\n",
    "    h = 1 / n\n",
    "        \n",
    "    A = generate_A(eps, n)\n",
    "    b = generate_b(eps, n)\n",
    "    \n",
    "    y_jacobi = Jacobi(A, b)\n",
    "    y_GS = GS(A, b)\n",
    "    y_SOR = SOR(A, b, 1.3)\n",
    "    y_accurate = [fun_y(x, eps) for x in np.arange(h, 1, h)]\n",
    "\n",
    "    print('Jacobi 误差:\\t无穷范数 {:.5f}'.format(calc_error(y_jacobi, y_accurate)))\n",
    "    print('GS 误差:\\t无穷范数 {:.5f}'.format(calc_error(y_GS, y_accurate)))\n",
    "    print('SOR 误差:\\t无穷范数 {:.5f}'.format(calc_error(y_SOR, y_accurate)))"
   ]
  },
  {
   "cell_type": "code",
   "execution_count": 153,
   "metadata": {},
   "outputs": [
    {
     "name": "stdout",
     "output_type": "stream",
     "text": [
      "\n",
      "n = 1000, eps = 0.1\n",
      "Jacobi 迭代步数 23504\n",
      "G-S 迭代步数 13971\n",
      "SOR 迭代步数 17254\n",
      "Jacobi 误差:\t无穷范数 0.35335\n",
      "GS 误差:\t无穷范数 0.33114\n",
      "SOR 误差:\t无穷范数 0.20802\n",
      "\n",
      "n = 1000, eps = 0.01\n",
      "Jacobi 迭代步数 19695\n",
      "G-S 迭代步数 11169\n",
      "SOR 迭代步数 6564\n",
      "Jacobi 误差:\t无穷范数 0.02240\n",
      "GS 误差:\t无穷范数 0.00947\n",
      "SOR 误差:\t无穷范数 0.00464\n",
      "\n",
      "n = 1000, eps = 0.001\n",
      "Jacobi 迭代步数 2132\n",
      "G-S 迭代步数 1571\n",
      "SOR 迭代步数 1056\n",
      "Jacobi 误差:\t无穷范数 0.01752\n",
      "GS 误差:\t无穷范数 0.01739\n",
      "SOR 误差:\t无穷范数 0.01730\n"
     ]
    }
   ],
   "source": [
    "test(0.1, 1000)\n",
    "test(0.01, 1000)\n",
    "test(0.001, 1000)"
   ]
  },
  {
   "attachments": {},
   "cell_type": "markdown",
   "metadata": {},
   "source": [
    "实验结论：\n",
    "\n",
    "随着 $\\varepsilon$ 减小，三种迭代方法的收敛速度都变快了。Jacobi 方法的误差减小，G-S 和 SOR 方法的误差先减小后增大。"
   ]
  },
  {
   "attachments": {},
   "cell_type": "markdown",
   "metadata": {},
   "source": [
    "##### 测试不同 $n$ 的影响"
   ]
  },
  {
   "cell_type": "code",
   "execution_count": 154,
   "metadata": {},
   "outputs": [
    {
     "name": "stdout",
     "output_type": "stream",
     "text": [
      "\n",
      "n = 100, eps = 1\n",
      "Jacobi 迭代步数 7838\n",
      "G-S 迭代步数 3960\n",
      "SOR 迭代步数 2453\n",
      "Jacobi 误差:\t无穷范数 0.01049\n",
      "GS 误差:\t无穷范数 0.00987\n",
      "SOR 误差:\t无穷范数 0.00531\n",
      "\n",
      "n = 100, eps = 0.1\n",
      "Jacobi 迭代步数 2901\n",
      "G-S 迭代步数 1664\n",
      "SOR 迭代步数 1003\n",
      "Jacobi 误差:\t无穷范数 0.00564\n",
      "GS 误差:\t无穷范数 0.00300\n",
      "SOR 误差:\t无穷范数 0.00167\n",
      "\n",
      "n = 100, eps = 0.01\n",
      "Jacobi 迭代步数 269\n",
      "G-S 迭代步数 186\n",
      "SOR 迭代步数 114\n",
      "Jacobi 误差:\t无穷范数 0.01736\n",
      "GS 误差:\t无穷范数 0.01731\n",
      "SOR 误差:\t无穷范数 0.01728\n"
     ]
    }
   ],
   "source": [
    "test(1, 100)\n",
    "test(0.1, 100)\n",
    "test(0.01, 100)"
   ]
  },
  {
   "attachments": {},
   "cell_type": "markdown",
   "metadata": {},
   "source": [
    "三种迭代方法的误差（无穷范数）与 $n$, $eps$ 的关系如下。发现 $n$ 越大，准确度反而减小\n",
    "\n",
    "|n \\ eps|1|0.1|0.01|0.001|\n",
    "|---|---|---|---|---|\n",
    "|100 |0.01049, 0.00987, 0.00530|0.00564, 0.00300, 0.00166|0.01735, 0.01731, 0.01728||\n",
    "|1000|0.50405, 0.50076, 0.05193|0.35335, 0.33114, 0.20802|0.02240, 0.00947, 0.00464|0.01752, 0.01739, 0.01730|\n"
   ]
  }
 ],
 "metadata": {
  "kernelspec": {
   "display_name": "qt",
   "language": "python",
   "name": "python3"
  },
  "language_info": {
   "codemirror_mode": {
    "name": "ipython",
    "version": 3
   },
   "file_extension": ".py",
   "mimetype": "text/x-python",
   "name": "python",
   "nbconvert_exporter": "python",
   "pygments_lexer": "ipython3",
   "version": "3.7.16"
  },
  "orig_nbformat": 4
 },
 "nbformat": 4,
 "nbformat_minor": 2
}
