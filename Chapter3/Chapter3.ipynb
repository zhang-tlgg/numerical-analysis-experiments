{
 "cells": [
  {
   "attachments": {},
   "cell_type": "markdown",
   "metadata": {},
   "source": [
    "# 实验三\n",
    "\n",
    "张天乐 计96 2018011038"
   ]
  },
  {
   "attachments": {},
   "cell_type": "markdown",
   "metadata": {},
   "source": [
    "## 上机题6"
   ]
  },
  {
   "attachments": {},
   "cell_type": "markdown",
   "metadata": {},
   "source": [
    "### 实验内容\n",
    "\n",
    "编程生成 Hilbert 矩阵 $H_n$ , 以及 n 维向量 $b = H_n x$ , 其中 $x$ 为所有分量都是 1 的向量。编程实现 Cholesky 分解算法，并用它求解方程 $H_n x = b$ , 得到近似解 $\\hat{x}$ , 计算残差 $r = b - H_n \\hat{x}$ 和误差 $\\Delta x = \\hat{x} - x$ 的 $\\infty$ 范数"
   ]
  },
  {
   "attachments": {},
   "cell_type": "markdown",
   "metadata": {},
   "source": [
    "### 实验过程"
   ]
  },
  {
   "attachments": {},
   "cell_type": "markdown",
   "metadata": {},
   "source": [
    "编程生成 Hilbert 矩阵 $H_n$ , 以及 n 维向量 $b = H_n x$ , 其中 $x$ 为所有分量都是 1 的向量。"
   ]
  },
  {
   "cell_type": "code",
   "execution_count": 1,
   "metadata": {},
   "outputs": [],
   "source": [
    "import numpy as np\n",
    "\n",
    "def create_hilbert(n):\n",
    "    a = np.zeros((n, n))\n",
    "    for i in range(n):\n",
    "        for j in range(n):\n",
    "            a[i][j] = 1 / (i + j + 1)\n",
    "    return a"
   ]
  },
  {
   "attachments": {},
   "cell_type": "markdown",
   "metadata": {},
   "source": [
    "实现 Cholesky 分解算法"
   ]
  },
  {
   "cell_type": "code",
   "execution_count": 2,
   "metadata": {},
   "outputs": [],
   "source": [
    "def cholesky(A, n):\n",
    "    L = np.zeros_like(A)\n",
    "    \n",
    "    for j in range(n):\n",
    "        sum = 0\n",
    "        for k in range(j):\n",
    "            sum += L[j][k] ** 2\n",
    "        L[j][j] = np.sqrt(abs(A[j][j] - sum))\n",
    "        for i in range(j + 1, n):\n",
    "            sum = 0\n",
    "            for k in range(j):\n",
    "                sum += L[i][k] * L[j][k]\n",
    "            L[i][j] = (A[i][j] - sum) / L[j][j]\n",
    "            \n",
    "    return L"
   ]
  },
  {
   "attachments": {},
   "cell_type": "markdown",
   "metadata": {},
   "source": [
    "求解方程 $H_n x = b$ :  $Ly = b$ , $L^T x= y$"
   ]
  },
  {
   "cell_type": "code",
   "execution_count": 3,
   "metadata": {},
   "outputs": [],
   "source": [
    "def solve(L, b, n):\n",
    "    y = np.zeros_like(b)\n",
    "\n",
    "    for i in range(n):\n",
    "        sum = 0\n",
    "        for j in range(0, i):\n",
    "            sum += L[i][j] * y[j]\n",
    "        y[i] = (b[i] - sum) / L[i][i]\n",
    "\n",
    "    x = np.zeros_like(b)\n",
    "\n",
    "    for i in range(n - 1, -1, -1):\n",
    "        sum = 0\n",
    "        for j in range(n - 1, i, -1):\n",
    "            sum += L[j][i] * x[j]\n",
    "        x[i] = (y[i] - sum) / L[i][i]\n",
    "    \n",
    "    return x"
   ]
  },
  {
   "attachments": {},
   "cell_type": "markdown",
   "metadata": {},
   "source": [
    "#### (1) 设 $n = 10$ ，计算 $||r||_{\\infty}$、$||\\Delta x||_{\\infty}$ "
   ]
  },
  {
   "cell_type": "code",
   "execution_count": 4,
   "metadata": {},
   "outputs": [
    {
     "name": "stdout",
     "output_type": "stream",
     "text": [
      "r = 2.220446049250313e-16, delta = 9.652351543287807e-05\n"
     ]
    }
   ],
   "source": [
    "n = 10\n",
    "\n",
    "# 生成 H, b\n",
    "H = create_hilbert(n)\n",
    "ones = np.ones(n)\n",
    "b = np.dot(H, ones)\n",
    "\n",
    "# Cholesky 分解\n",
    "L = cholesky(H, n)\n",
    "\n",
    "# 解方程\n",
    "x = solve(L, b, n)\n",
    "\n",
    "# 计算残差和误差\n",
    "r = max(abs(b - np.dot(H, x)))\n",
    "delta = max(abs(x - ones))\n",
    "print(\"r = {}, delta = {}\".format(r, delta))"
   ]
  },
  {
   "attachments": {},
   "cell_type": "markdown",
   "metadata": {},
   "source": [
    "残差 $||r||_{\\infty} = 2.220\\times 10^{-16}$，误差 $||\\Delta x||_{\\infty}=9.652\\times 10^{-05}$ "
   ]
  },
  {
   "attachments": {},
   "cell_type": "markdown",
   "metadata": {},
   "source": [
    "#### (2) 在右端项上施加大小为 $10^{-7}$ 的随机扰动，然后再解上述方程组，观察残差和误差的变化情况"
   ]
  },
  {
   "cell_type": "code",
   "execution_count": 5,
   "metadata": {},
   "outputs": [
    {
     "name": "stdout",
     "output_type": "stream",
     "text": [
      "施加大小为 1e-7 的随机扰动:\n",
      "r = 1.1236248909085589e-07, delta = 170355.29274321385\n"
     ]
    }
   ],
   "source": [
    "x = solve(L, b + np.random.normal(0, 1e-7, n), n)\n",
    "r = max(abs(b - np.dot(H, x)))\n",
    "delta = max(abs(x - ones))\n",
    "print('施加大小为 1e-7 的随机扰动:')\n",
    "print(\"r = {}, delta = {}\".format(r, delta))"
   ]
  },
  {
   "attachments": {},
   "cell_type": "markdown",
   "metadata": {},
   "source": [
    "发现残差变化很小，但误差变化极大。说明 Hilbert 矩阵是病态的，符合课本上的说明。"
   ]
  },
  {
   "attachments": {},
   "cell_type": "markdown",
   "metadata": {},
   "source": [
    "#### (3)改变 $n$ 的值为 8 和 12、14 , 求解相应的方程, 观察 $||r||_{\\infty}$、$||\\Delta x||_{\\infty}$ 的变化情况"
   ]
  },
  {
   "cell_type": "code",
   "execution_count": 6,
   "metadata": {},
   "outputs": [
    {
     "name": "stdout",
     "output_type": "stream",
     "text": [
      "\n",
      "n = 8\n",
      "r = 2.220446049250313e-16, delta = 3.735335705190579e-07\n",
      "施加大小为 1e-7 的随机扰动:\n",
      "r = 1.6609609243545265e-07, delta = 80.53111966571892\n",
      "\n",
      "n = 12\n",
      "r = 4.440892098500626e-16, delta = 0.007003226172676014\n",
      "施加大小为 1e-7 的随机扰动:\n",
      "r = 2.490396289189789e-07, delta = 223113226.54039505\n",
      "\n",
      "n = 14\n",
      "r = 2.6989521728637555e-13, delta = 849.0754440508019\n",
      "施加大小为 1e-7 的随机扰动:\n",
      "r = 3.8290906025806315e-05, delta = 108019145905.95453\n"
     ]
    }
   ],
   "source": [
    "def test(n):\n",
    "    print('\\nn = {}'.format(n))\n",
    "    # 生成 H, b\n",
    "    H = create_hilbert(n)\n",
    "    ones = np.ones(n)\n",
    "    b = np.dot(H, ones)\n",
    "\n",
    "    # Cholesky 分解\n",
    "    L = cholesky(H, n)\n",
    "\n",
    "    # 解方程，计算残差和误差\n",
    "    x = solve(L, b, n)\n",
    "    r = max(abs(b - np.dot(H, x)))\n",
    "    delta = max(abs(x - ones))\n",
    "    print(\"r = {}, delta = {}\".format(r, delta))\n",
    "\n",
    "    # 施加大小为 1e-7 的随机扰动\n",
    "    x = solve(L, b + np.random.normal(0, 1e-7, n), n)\n",
    "    r = max(abs(b - np.dot(H, x)))\n",
    "    delta = max(abs(x - ones))\n",
    "    print('施加大小为 1e-7 的随机扰动:')\n",
    "    print(\"r = {}, delta = {}\".format(r, delta))\n",
    "\n",
    "test(8)\n",
    "test(12)\n",
    "test(14)"
   ]
  },
  {
   "attachments": {},
   "cell_type": "markdown",
   "metadata": {},
   "source": [
    "观察发现残差 $||r||_{\\infty}$ 都不大。误差 $||\\Delta x||_{\\infty}$ 非常大，并且 $n$ 越大，误差越大。说明 Hilbert 矩阵是病态的，并且 $n$ 越大，矩阵越病态。"
   ]
  }
 ],
 "metadata": {
  "kernelspec": {
   "display_name": "qt",
   "language": "python",
   "name": "python3"
  },
  "language_info": {
   "codemirror_mode": {
    "name": "ipython",
    "version": 3
   },
   "file_extension": ".py",
   "mimetype": "text/x-python",
   "name": "python",
   "nbconvert_exporter": "python",
   "pygments_lexer": "ipython3",
   "version": "3.7.16"
  },
  "orig_nbformat": 4
 },
 "nbformat": 4,
 "nbformat_minor": 2
}
